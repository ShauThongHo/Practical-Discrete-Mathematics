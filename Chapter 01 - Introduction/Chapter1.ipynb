{
 "cells": [
  {
   "cell_type": "markdown",
   "metadata": {},
   "source": [
    "# Chapter 1 - Introduction: Key Concepts, Notation, Set Theory, Relations, and Functions\n",
    "\n",
    "This notebook contains code accompanying Chapter 1 Introduction: Key Concepts, Notation, Set Theory, Relations, and Functions in *Practical Discrete Mathematics* by Ryan T. White and Archana Tikayat Ray\n",
    "\n",
    "## Functions and Relations\n",
    "\n",
    "### The `sort()` function"
   ]
  },
  {
   "cell_type": "code",
   "execution_count": 3,
   "metadata": {},
   "outputs": [
    {
     "name": "stdout",
     "output_type": "stream",
     "text": [
      "[1, 2, 3, 4, 5, 8, 12, 95]\n",
      "['Brandon', 'Elise', 'Eugene', 'Kumar', 'Wyatt']\n"
     ]
    }
   ],
   "source": [
    "numbers = [3, 1, 4, 12, 8, 5, 2, 95]\n",
    "names = ['Wyatt', 'Brandon', 'Kumar', 'Eugene', 'Elise']\n",
    "\n",
    "# Apply the sort() function to the lists\n",
    "numbers.sort()\n",
    "names.sort()\n",
    "\n",
    "# Display the output\n",
    "print(numbers)\n",
    "print(names)"
   ]
  },
  {
   "cell_type": "markdown",
   "metadata": {},
   "source": [
    "### The `shuffle()` function"
   ]
  },
  {
   "cell_type": "code",
   "execution_count": 6,
   "metadata": {},
   "outputs": [
    {
     "name": "stdout",
     "output_type": "stream",
     "text": [
      "[12, 2, 1, 5, 9, 3, 8, 4]\n",
      "[4, 2, 8, 3, 1, 12, 5, 9]\n",
      "[4, 5, 1, 9, 3, 8, 12, 2]\n",
      "[9, 12, 2, 8, 5, 3, 4, 1]\n",
      "[9, 8, 4, 3, 12, 1, 5, 2]\n"
     ]
    }
   ],
   "source": [
    "import random\n",
    "\n",
    "# Set a random seed so the code is reproducible\n",
    "random.seed(1)\n",
    "\n",
    "# Run the random.shuffle() function 5 times and display the outputs\n",
    "for i in range(0,5):\n",
    "    numbers = [3, 1, 4, 12, 8, 5, 2, 9]\n",
    "    random.shuffle(numbers)\n",
    "    print(numbers)"
   ]
  },
  {
   "cell_type": "markdown",
   "metadata": {},
   "source": []
  }
 ],
 "metadata": {
  "kernelspec": {
   "display_name": "Python 3",
   "language": "python",
   "name": "python3"
  },
  "language_info": {
   "codemirror_mode": {
    "name": "ipython",
    "version": 3
   },
   "file_extension": ".py",
   "mimetype": "text/x-python",
   "name": "python",
   "nbconvert_exporter": "python",
   "pygments_lexer": "ipython3",
   "version": "3.13.0"
  }
 },
 "nbformat": 4,
 "nbformat_minor": 4
}
