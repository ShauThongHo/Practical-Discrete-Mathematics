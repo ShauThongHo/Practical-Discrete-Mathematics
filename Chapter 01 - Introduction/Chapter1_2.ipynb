{
  "cells": [
    {
      "cell_type": "markdown",
      "metadata": {
        "colab_type": "text",
        "id": "view-in-github"
      },
      "source": [
        "<a href=\"https://colab.research.google.com/github/ShauThongHo/Practical-Discrete-Mathematics/blob/master/Chapter%2001%20-%20Introduction/Chapter1_2.ipynb\" target=\"_parent\"><img src=\"https://colab.research.google.com/assets/colab-badge.svg\" alt=\"Open In Colab\"/></a>"
      ]
    },
    {
      "cell_type": "markdown",
      "metadata": {
        "id": "DATbyAxbWDr2"
      },
      "source": [
        "# Chapter 1 - Introduction: Key Concepts, Notation, Set Theory, Relations, and Functions\n",
        "\n",
        "This notebook contains code accompanying Chapter 1 Introduction: Key Concepts, Notation, Set Theory, Relations, and Functions in *Practical Discrete Mathematics* by Ryan T. White and Archana Tikayat Ray\n",
        "\n",
        "## Functions and Relations\n",
        "\n",
        "### The `sort()` function"
      ]
    },
    {
      "cell_type": "code",
      "execution_count": 3,
      "metadata": {
        "colab": {
          "base_uri": "https://localhost:8080/"
        },
        "id": "LJc3PnzSWDr7",
        "outputId": "e7ad8346-40cd-40fd-bf01-ddccc70b49bb"
      },
      "outputs": [
        {
          "name": "stdout",
          "output_type": "stream",
          "text": [
            "[1, 2, 3, 4, 5, 8, 12, 95]\n",
            "['Brandon', 'Elise', 'Eugene', 'Kumar', 'Wyatt']\n"
          ]
        }
      ],
      "source": [
        "numbers = [3, 1, 4, 12, 8, 5, 2, 95]\n",
        "names = ['Wyatt', 'Brandon', 'Kumar', 'Eugene', 'Elise']\n",
        "\n",
        "# Apply the sort() function to the lists\n",
        "numbers.sort()\n",
        "names.sort()\n",
        "\n",
        "# Display the output\n",
        "print(numbers)\n",
        "print(names)"
      ]
    },
    {
      "cell_type": "markdown",
      "metadata": {
        "id": "t89QMWrdWDr-"
      },
      "source": [
        "### The `shuffle()` function"
      ]
    },
    {
      "cell_type": "code",
      "execution_count": null,
      "metadata": {
        "id": "m8N0QOAqWDr_",
        "outputId": "003ee5e8-c5fd-4249-ef69-5099d943367c"
      },
      "outputs": [
        {
          "name": "stdout",
          "output_type": "stream",
          "text": [
            "[12, 2, 1, 5, 9, 3, 8, 4]\n",
            "[4, 2, 8, 3, 1, 12, 5, 9]\n",
            "[4, 5, 1, 9, 3, 8, 12, 2]\n",
            "[9, 12, 2, 8, 5, 3, 4, 1]\n",
            "[9, 8, 4, 3, 12, 1, 5, 2]\n"
          ]
        }
      ],
      "source": [
        "import random\n",
        "\n",
        "# Set a random seed so the code is reproducible\n",
        "random.seed(1)\n",
        "\n",
        "# Run the random.shuffle() function 5 times and display the outputs\n",
        "for i in range(0,5):\n",
        "    numbers = [3, 1, 4, 12, 8, 5, 2, 9]\n",
        "    random.shuffle(numbers)\n",
        "    print(numbers)"
      ]
    },
    {
      "cell_type": "markdown",
      "metadata": {
        "id": "HD0fjd2AZppA"
      },
      "source": [
        "This code is about union"
      ]
    },
    {
      "cell_type": "markdown",
      "metadata": {
        "id": "IEryhF4WaHIM"
      },
      "source": [
        "create 2 set of number and union it. create the python code"
      ]
    },
    {
      "cell_type": "code",
      "execution_count": 1,
      "metadata": {
        "colab": {
          "base_uri": "https://localhost:8080/"
        },
        "id": "l-KwOIE6bjj0",
        "outputId": "6a17e7e1-c25d-412d-ec4c-7ab3ad06214d"
      },
      "outputs": [
        {
          "name": "stdout",
          "output_type": "stream",
          "text": [
            "{1, 2, 3, 4, 5, 6, 7, 8}\n"
          ]
        }
      ],
      "source": [
        "# Define two sets of numbers\n",
        "set1 = {1, 2, 3, 4, 5}\n",
        "set2 = {4, 5, 6, 7, 8}\n",
        "\n",
        "# Union of the two sets\n",
        "union_set = set1.union(set2)\n",
        "\n",
        "# Print the result\n",
        "print(union_set)\n"
      ]
    },
    {
      "cell_type": "markdown",
      "metadata": {
        "id": "ampzRGPXb0yB"
      },
      "source": [
        "shuffle the character in your name"
      ]
    },
    {
      "cell_type": "code",
      "execution_count": 7,
      "metadata": {
        "id": "6vQPFKtob62A"
      },
      "outputs": [
        {
          "name": "stdout",
          "output_type": "stream",
          "text": [
            "['H', 'E', 'O', 'L', 'L']\n",
            "['L', 'O', 'H', 'L', 'E']\n",
            "['H', 'E', 'O', 'L', 'L']\n",
            "['L', 'H', 'L', 'E', 'O']\n",
            "['H', 'L', 'L', 'E', 'O']\n"
          ]
        }
      ],
      "source": [
        "import random\n",
        "random.seed(12)\n",
        "for i in range(0,5):\n",
        "  name = [\"H\", \"E\", \"L\", \"L\", \"O\"]\n",
        "  random.shuffle(name)\n",
        "  print(name)"
      ]
    },
    {
      "cell_type": "code",
      "execution_count": 2,
      "metadata": {},
      "outputs": [
        {
          "ename": "",
          "evalue": "",
          "output_type": "error",
          "traceback": [
            "\u001b[1;31mThe Kernel crashed while executing code in the current cell or a previous cell. \n",
            "\u001b[1;31mPlease review the code in the cell(s) to identify a possible cause of the failure. \n",
            "\u001b[1;31mClick <a href='https://aka.ms/vscodeJupyterKernelCrash'>here</a> for more info. \n",
            "\u001b[1;31mView Jupyter <a href='command:jupyter.viewOutput'>log</a> for further details."
          ]
        }
      ],
      "source": [
        "# This code will prompt the user to enter their name and then greet them\n",
        "\n",
        "# Predefined user input\n",
        "user_name = input(\"Enter your name: \")\n",
        "\n",
        "# Displaying the greeting message\n",
        "print(f\"Hello, {user_name}! Welcome to Google Colab.\")"
      ]
    },
    {
      "cell_type": "code",
      "execution_count": 2,
      "metadata": {},
      "outputs": [
        {
          "ename": "ModuleNotFoundError",
          "evalue": "No module named 'pandas'",
          "output_type": "error",
          "traceback": [
            "\u001b[1;31m---------------------------------------------------------------------------\u001b[0m",
            "\u001b[1;31mModuleNotFoundError\u001b[0m                       Traceback (most recent call last)",
            "Cell \u001b[1;32mIn[2], line 30\u001b[0m\n\u001b[0;32m     27\u001b[0m     truth_table\u001b[38;5;241m.\u001b[39mappend(row)\n\u001b[0;32m     29\u001b[0m \u001b[38;5;66;03m# Display the truth table\u001b[39;00m\n\u001b[1;32m---> 30\u001b[0m \u001b[38;5;28;01mimport\u001b[39;00m \u001b[38;5;21;01mpandas\u001b[39;00m \u001b[38;5;28;01mas\u001b[39;00m \u001b[38;5;21;01mpd\u001b[39;00m\n\u001b[0;32m     32\u001b[0m df \u001b[38;5;241m=\u001b[39m pd\u001b[38;5;241m.\u001b[39mDataFrame(truth_table)\n\u001b[0;32m     33\u001b[0m df\n",
            "\u001b[1;31mModuleNotFoundError\u001b[0m: No module named 'pandas'"
          ]
        }
      ],
      "source": [
        "import itertools\n",
        "\n",
        "# Define the propositions\n",
        "propositions = ['p', 'q']\n",
        "\n",
        "# Generate all combinations of truth values\n",
        "truth_values = list(itertools.product([True, False], repeat=len(propositions)))\n",
        "\n",
        "# Define logical expressions\n",
        "def logical_expressions(p, q):\n",
        "    return {\n",
        "        'p AND q': p and q,\n",
        "        'p OR q': p or q,\n",
        "        'NOT p': not p,\n",
        "        'p IMPLIES q': not p or q,\n",
        "        'p EQUIVALENT q': p == q\n",
        "    }\n",
        "\n",
        "# Create the truth table\n",
        "truth_table = []\n",
        "\n",
        "for values in truth_values:\n",
        "    p, q = values\n",
        "    results = logical_expressions(p, q)\n",
        "    row = {prop: val for prop, val in zip(propositions, values)}\n",
        "    row.update(results)\n",
        "    truth_table.append(row)\n",
        "\n",
        "# Display the truth table\n",
        "import pandas as pd\n",
        "\n",
        "df = pd.DataFrame(truth_table)\n",
        "df\n"
      ]
    }
  ],
  "metadata": {
    "colab": {
      "include_colab_link": true,
      "provenance": []
    },
    "kernelspec": {
      "display_name": "Python 3",
      "language": "python",
      "name": "python3"
    },
    "language_info": {
      "codemirror_mode": {
        "name": "ipython",
        "version": 3
      },
      "file_extension": ".py",
      "mimetype": "text/x-python",
      "name": "python",
      "nbconvert_exporter": "python",
      "pygments_lexer": "ipython3",
      "version": "3.13.0"
    }
  },
  "nbformat": 4,
  "nbformat_minor": 0
}
